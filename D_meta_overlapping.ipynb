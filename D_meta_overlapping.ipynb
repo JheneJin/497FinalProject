{
  "cells": [
    {
      "cell_type": "code",
      "execution_count": 1,
      "metadata": {
        "colab": {
          "base_uri": "https://localhost:8080/"
        },
        "id": "jZxACd4s8qJT",
        "outputId": "c83a4bef-f60f-46e5-8771-4e47addca239"
      },
      "outputs": [
        {
          "data": {
            "text/plain": [
              "device(type='cpu')"
            ]
          },
          "execution_count": 1,
          "metadata": {},
          "output_type": "execute_result"
        }
      ],
      "source": [
        "import torch\n",
        "import torch.nn as nn\n",
        "import torch.optim as optim\n",
        "import torchvision\n",
        "import torchvision.transforms as transforms\n",
        "from torch.utils.data import DataLoader, random_split\n",
        "from tqdm import tqdm\n",
        "import matplotlib.pyplot as plt\n",
        "import seaborn as sns\n",
        "import numpy as np\n",
        "\n",
        "# Check and set the device\n",
        "device = torch.device('cuda' if torch.cuda.is_available() else 'cpu')\n",
        "device"
      ]
    },
    {
      "cell_type": "code",
      "execution_count": 2,
      "metadata": {
        "id": "18s4Qd6g8tzu"
      },
      "outputs": [],
      "source": [
        "# Federated learning hyperparameters\n",
        "num_epochs, learning_rate = 5, 0.001\n",
        "batch_sizes, communication_rounds = [64, 128], 100\n",
        "overlap_percentage = 25 # Dmeta hyperparameter"
      ]
    },
    {
      "cell_type": "code",
      "execution_count": 3,
      "metadata": {
        "id": "fJ-ueVW087QW"
      },
      "outputs": [],
      "source": [
        "# Define a deep learning model (CNN)\n",
        "class CNNModel(nn.Module):\n",
        "    def __init__(self):\n",
        "        super(CNNModel, self).__init__()\n",
        "        # Modify the architecture based on your requirements\n",
        "        self.conv1 = nn.Conv2d(1, 32, kernel_size=3, padding=1)\n",
        "        self.relu1 = nn.ReLU()\n",
        "        self.maxpool1 = nn.MaxPool2d(kernel_size=2, stride=2)\n",
        "        self.conv2 = nn.Conv2d(32, 64, kernel_size=3, padding=1)\n",
        "        self.relu2 = nn.ReLU()\n",
        "        self.maxpool2 = nn.MaxPool2d(kernel_size=2, stride=2)\n",
        "        self.fc1 = nn.Linear(64 * 7 * 7, 512)\n",
        "        self.relu3 = nn.ReLU()\n",
        "        self.fc2 = nn.Linear(512, 10)  # Assuming 10 classes\n",
        "\n",
        "    def forward(self, x):\n",
        "        x = self.conv1(x)\n",
        "        x = self.relu1(x)\n",
        "        x = self.maxpool1(x)\n",
        "        x = self.conv2(x)\n",
        "        x = self.relu2(x)\n",
        "        x = self.maxpool2(x)\n",
        "        x = x.view(x.size(0), -1)\n",
        "        x = self.fc1(x)\n",
        "        x = self.relu3(x)\n",
        "        x = self.fc2(x)\n",
        "        return x"
      ]
    },
    {
      "cell_type": "code",
      "execution_count": 4,
      "metadata": {
        "colab": {
          "base_uri": "https://localhost:8080/"
        },
        "id": "7FziDvqIm_AG",
        "outputId": "ed8bc5a3-a90f-45e4-9227-58faa33b9746"
      },
      "outputs": [],
      "source": [
        "# Dataset preparation\n",
        "transform = transforms.Compose([transforms.ToTensor(), transforms.Normalize((0.5,), (0.5,))])\n",
        "\n",
        "# Assuming you have the FEMNIST dataset downloaded and split for each client\n",
        "# Replace 'path_to_client_data' with the actual path to the client data\n",
        "client_dataset = torchvision.datasets.FashionMNIST(root='path_to_client_data', train=True, download=True, transform=transform)\n",
        "\n",
        "# Split the client dataset into train and validation sets\n",
        "train_size = int(0.8 * len(client_dataset))\n",
        "val_size = len(client_dataset) - train_size\n",
        "client_train_set, client_val_set = random_split(client_dataset, [train_size, val_size])\n",
        "\n",
        "# DataLoader for training and validation\n",
        "train_loaders = [DataLoader(client_train_set, batch_size=batch_size, shuffle=True, num_workers=4) for batch_size in batch_sizes]\n",
        "val_loader = DataLoader(client_val_set, batch_size=batch_sizes[0], shuffle=False, num_workers=4)"
      ]
    },
    {
      "cell_type": "code",
      "execution_count": 5,
      "metadata": {
        "id": "JcHYTj6t9C62"
      },
      "outputs": [],
      "source": [
        "# Function to train the model for a given federated learning algorithm\n",
        "def train_federated_learning_with_dmeta(model, train_loader, dmeta_loader, algorithm_name):\n",
        "    model.train()\n",
        "    criterion = nn.CrossEntropyLoss()\n",
        "    optimizer = optim.Adam(model.parameters(), lr=learning_rate)\n",
        "\n",
        "    performance_metrics = {'accuracy': [], 'loss': []}\n",
        "\n",
        "    for epoch in range(num_epochs):\n",
        "        running_loss = 0.0\n",
        "\n",
        "        # Train on D\n",
        "        for images, labels in tqdm(train_loader, desc=f'Epoch {epoch + 1}/{num_epochs} - {algorithm_name} - D'):\n",
        "            images, labels = images.to(device), labels.to(device)\n",
        "\n",
        "            optimizer.zero_grad()\n",
        "            outputs = model(images)\n",
        "            loss = criterion(outputs, labels)\n",
        "            loss.backward()\n",
        "            optimizer.step()\n",
        "\n",
        "            running_loss += loss.item()\n",
        "\n",
        "        # Train on Dmeta\n",
        "        for images, labels in tqdm(dmeta_loader, desc=f'Epoch {epoch + 1}/{num_epochs} - {algorithm_name} - Dmeta'):\n",
        "            images, labels = images.to(device), labels.to(device)\n",
        "\n",
        "            optimizer.zero_grad()\n",
        "            outputs = model(images)\n",
        "            loss = criterion(outputs, labels)\n",
        "            loss.backward()\n",
        "            optimizer.step()\n",
        "\n",
        "            running_loss += loss.item()\n",
        "\n",
        "        # Print average loss at the end of each epoch\n",
        "        average_loss = running_loss / (len(train_loader) + len(dmeta_loader))\n",
        "        print(f'Epoch [{epoch + 1}/{num_epochs}] - {algorithm_name}, Loss: {average_loss:.4f}')\n",
        "\n",
        "        # Evaluate on validation set\n",
        "        accuracy = evaluate_model(model, val_loader)\n",
        "        print(f'Epoch [{epoch + 1}/{num_epochs}] - {algorithm_name}, Validation Accuracy: {accuracy * 100:.2f}%')\n",
        "\n",
        "        performance_metrics['accuracy'].append(accuracy)\n",
        "        performance_metrics['loss'].append(average_loss)\n",
        "\n",
        "    return performance_metrics\n",
        "\n",
        "# Function to evaluate the model on the validation set\n",
        "def evaluate_model(model, val_loader):\n",
        "    model.eval()\n",
        "    correct, total = 0, 0\n",
        "    with torch.no_grad():\n",
        "        for images, labels in val_loader:\n",
        "            images, labels = images.to(device), labels.to(device)\n",
        "            outputs = model(images)\n",
        "            _, predicted = torch.max(outputs.data, 1)\n",
        "            total += labels.size(0)\n",
        "            correct += (predicted == labels).sum().item()\n",
        "\n",
        "    accuracy = correct / total\n",
        "    return accuracy"
      ]
    },
    {
      "cell_type": "code",
      "execution_count": 6,
      "metadata": {},
      "outputs": [],
      "source": [
        "# def train_federated_learningAdj(model, train_loader, algorithm_name, times):\n",
        "#     model.train()\n",
        "#     criterion = nn.CrossEntropyLoss()\n",
        "#     optimizer = optim.Adam(model.parameters(), lr=learning_rate)\n",
        "    \n",
        "#     # Initialize the convolutional layer outside the loop\n",
        "#     in_channels = train_loader.dataset[0][0].shape[0]  # Number of input channels\n",
        "#     out_channels = max(1, in_channels - times) \n",
        "#     conv_reduce_channels = nn.Conv2d(in_channels, out_channels, kernel_size=1)\n",
        "    \n",
        "#     performance_metrics = {'accuracy': [], 'loss': []}\n",
        "\n",
        "#     for epoch in range(num_epochs):\n",
        "#         running_loss = 0.0\n",
        "#         for images, labels in tqdm(train_loader, desc=f'Epoch {epoch + 1}/{num_epochs} - {algorithm_name}'):\n",
        "#             images, labels = images.to(device), labels.to(device)\n",
        "            \n",
        "#             # Apply the convolutional layer to input images\n",
        "#             data = conv_reduce_channels(images)\n",
        "            \n",
        "#             optimizer.zero_grad()\n",
        "#             outputs = model(data)\n",
        "#             loss = criterion(outputs, labels)\n",
        "#             loss.backward()\n",
        "#             optimizer.step()\n",
        "\n",
        "#             running_loss += loss.item()\n",
        "\n",
        "#         # Print average loss at the end of each epoch\n",
        "#         average_loss = running_loss / len(train_loader)\n",
        "#         print(f'Epoch [{epoch + 1}/{num_epochs}] - {algorithm_name}, Loss: {average_loss:.4f}')\n",
        "\n",
        "#         # Evaluate on validation set\n",
        "#         accuracy = evaluate_model(model, val_loader)\n",
        "#         print(f'Epoch [{epoch + 1}/{num_epochs}] - {algorithm_name}, Validation Accuracy: {accuracy * 100:.2f}%')\n",
        "\n",
        "#         performance_metrics['accuracy'].append(accuracy)\n",
        "#         performance_metrics['loss'].append(average_loss)\n",
        "\n",
        "#     return performance_metrics\n",
        "\n",
        "# Function to train the model for a given federated learning algorithm\n",
        "def train_federated_learning_with_dmetaAdj(model, train_loader, dmeta_loader, algorithm_name, times):\n",
        "    model.train()\n",
        "    criterion = nn.CrossEntropyLoss()\n",
        "    optimizer = optim.Adam(model.parameters(), lr=learning_rate)\n",
        "     # Initialize the convolutional layer outside the loop\n",
        "    in_channels = train_loader.dataset[0][0].shape[0]\n",
        "    out_channels = max(1, in_channels - times) \n",
        "    conv_reduce_channels = nn.Conv2d(in_channels, out_channels, kernel_size=1)\n",
        "\n",
        "    performance_metrics = {'accuracy': [], 'loss': []}\n",
        "\n",
        "    for epoch in range(num_epochs):\n",
        "        running_loss = 0.0\n",
        "\n",
        "        # Train on D\n",
        "        for images, labels in tqdm(train_loader, desc=f'Epoch {epoch + 1}/{num_epochs} - {algorithm_name} - D'):\n",
        "            images, labels = images.to(device), labels.to(device)\n",
        "\n",
        "            data = conv_reduce_channels(images)\n",
        "            \n",
        "            optimizer.zero_grad()\n",
        "            outputs = model(data)\n",
        "            loss = criterion(outputs, labels)\n",
        "            loss.backward()\n",
        "            optimizer.step()\n",
        "\n",
        "            running_loss += loss.item()\n",
        "\n",
        "        # Train on Dmeta\n",
        "        for images, labels in tqdm(dmeta_loader, desc=f'Epoch {epoch + 1}/{num_epochs} - {algorithm_name} - Dmeta'):\n",
        "            images, labels = images.to(device), labels.to(device)\n",
        "\n",
        "            data = conv_reduce_channels(images)\n",
        "            \n",
        "            optimizer.zero_grad()\n",
        "            outputs = model(data)\n",
        "            loss = criterion(outputs, labels)\n",
        "            loss.backward()\n",
        "            optimizer.step()\n",
        "\n",
        "            running_loss += loss.item()\n",
        "\n",
        "        # Print average loss at the end of each epoch\n",
        "        average_loss = running_loss / (len(train_loader) + len(dmeta_loader))\n",
        "        print(f'Epoch [{epoch + 1}/{num_epochs}] - {algorithm_name}, Loss: {average_loss:.4f}')\n",
        "\n",
        "        # Evaluate on validation set\n",
        "        accuracy = evaluate_model(model, val_loader)\n",
        "        print(f'Epoch [{epoch + 1}/{num_epochs}] - {algorithm_name}, Validation Accuracy: {accuracy * 100:.2f}%')\n",
        "\n",
        "        performance_metrics['accuracy'].append(accuracy)\n",
        "        performance_metrics['loss'].append(average_loss)\n",
        "\n",
        "    return performance_metrics\n",
        "\n",
        "# Function to evaluate the model on the validation set\n",
        "def evaluate_model(model, val_loader):\n",
        "    model.eval()\n",
        "    correct, total = 0, 0\n",
        "    with torch.no_grad():\n",
        "        for images, labels in val_loader:\n",
        "            images, labels = images.to(device), labels.to(device)\n",
        "            outputs = model(images)\n",
        "            _, predicted = torch.max(outputs.data, 1)\n",
        "            total += labels.size(0)\n",
        "            correct += (predicted == labels).sum().item()\n",
        "\n",
        "    accuracy = correct / total\n",
        "    return accuracy\n",
        "\n"
      ]
    },
    {
      "cell_type": "code",
      "execution_count": 7,
      "metadata": {
        "id": "BXxeytPknmPY"
      },
      "outputs": [],
      "source": [
        "# Number of writers in Dmeta\n",
        "num_writers_dmeta = int(overlap_percentage / 100 * len(client_dataset))\n",
        "\n",
        "# Select writers from D and the auxiliary dataset\n",
        "writers_d = client_dataset.targets.unique().tolist()\n",
        "writers_auxiliary = list(range(100))  # Assuming 100 writers in the auxiliary dataset\n",
        "\n",
        "# Select a certain proportion of writers from D and the rest from the auxiliary dataset\n",
        "selected_writers_d = writers_d[:len(writers_d) - num_writers_dmeta]\n",
        "selected_writers_auxiliary = writers_auxiliary[:num_writers_dmeta]\n",
        "\n",
        "# Combine selected writers to form Dmeta writers\n",
        "writers_dmeta = selected_writers_d + selected_writers_auxiliary\n",
        "\n",
        "# Sample 1% examples to form Dmeta\n",
        "num_samples_dmeta = int(.5 * len(client_dataset))\n",
        "indices_dmeta = torch.randperm(len(client_dataset))[:num_samples_dmeta]\n",
        "\n",
        "# Create Dmeta by selecting examples from D and auxiliary dataset\n",
        "data_dmeta = [client_dataset[i] for i in indices_dmeta]\n",
        "dmeta_loader = DataLoader(data_dmeta, batch_size=batch_sizes[0], shuffle=True, num_workers=4)"
      ]
    },
    {
      "cell_type": "code",
      "execution_count": 8,
      "metadata": {
        "colab": {
          "base_uri": "https://localhost:8080/"
        },
        "id": "SGL7i3wtzFNV",
        "outputId": "c30142eb-46f1-4411-fd48-0d4b14688223"
      },
      "outputs": [
        {
          "name": "stderr",
          "output_type": "stream",
          "text": [
            "Epoch 1/5 - FedMeta w/ UGA with Dmeta - D: 100%|██████████| 750/750 [01:31<00:00,  8.19it/s]\n",
            "Epoch 1/5 - FedMeta w/ UGA with Dmeta - Dmeta: 100%|██████████| 469/469 [01:23<00:00,  5.59it/s]\n"
          ]
        },
        {
          "name": "stdout",
          "output_type": "stream",
          "text": [
            "Epoch [1/5] - FedMeta w/ UGA with Dmeta, Loss: 0.3720\n",
            "Epoch [1/5] - FedMeta w/ UGA with Dmeta, Validation Accuracy: 91.05%\n"
          ]
        },
        {
          "name": "stderr",
          "output_type": "stream",
          "text": [
            "Epoch 2/5 - FedMeta w/ UGA with Dmeta - D: 100%|██████████| 750/750 [02:00<00:00,  6.25it/s]\n",
            "Epoch 2/5 - FedMeta w/ UGA with Dmeta - Dmeta: 100%|██████████| 469/469 [01:18<00:00,  5.95it/s]\n"
          ]
        },
        {
          "name": "stdout",
          "output_type": "stream",
          "text": [
            "Epoch [2/5] - FedMeta w/ UGA with Dmeta, Loss: 0.2245\n",
            "Epoch [2/5] - FedMeta w/ UGA with Dmeta, Validation Accuracy: 91.14%\n"
          ]
        },
        {
          "name": "stderr",
          "output_type": "stream",
          "text": [
            "Epoch 3/5 - FedMeta w/ UGA with Dmeta - D: 100%|██████████| 750/750 [00:42<00:00, 17.83it/s]\n",
            "Epoch 3/5 - FedMeta w/ UGA with Dmeta - Dmeta: 100%|██████████| 469/469 [00:36<00:00, 12.73it/s]\n"
          ]
        },
        {
          "name": "stdout",
          "output_type": "stream",
          "text": [
            "Epoch [3/5] - FedMeta w/ UGA with Dmeta, Loss: 0.1693\n",
            "Epoch [3/5] - FedMeta w/ UGA with Dmeta, Validation Accuracy: 93.18%\n"
          ]
        },
        {
          "name": "stderr",
          "output_type": "stream",
          "text": [
            "Epoch 4/5 - FedMeta w/ UGA with Dmeta - D: 100%|██████████| 750/750 [00:47<00:00, 15.65it/s]\n",
            "Epoch 4/5 - FedMeta w/ UGA with Dmeta - Dmeta: 100%|██████████| 469/469 [00:35<00:00, 13.05it/s]\n"
          ]
        },
        {
          "name": "stdout",
          "output_type": "stream",
          "text": [
            "Epoch [4/5] - FedMeta w/ UGA with Dmeta, Loss: 0.1247\n",
            "Epoch [4/5] - FedMeta w/ UGA with Dmeta, Validation Accuracy: 94.33%\n"
          ]
        },
        {
          "name": "stderr",
          "output_type": "stream",
          "text": [
            "Epoch 5/5 - FedMeta w/ UGA with Dmeta - D: 100%|██████████| 750/750 [00:47<00:00, 15.81it/s]\n",
            "Epoch 5/5 - FedMeta w/ UGA with Dmeta - Dmeta: 100%|██████████| 469/469 [00:42<00:00, 11.15it/s]\n"
          ]
        },
        {
          "name": "stdout",
          "output_type": "stream",
          "text": [
            "Epoch [5/5] - FedMeta w/ UGA with Dmeta, Loss: 0.0906\n",
            "Epoch [5/5] - FedMeta w/ UGA with Dmeta, Validation Accuracy: 94.88%\n"
          ]
        }
      ],
      "source": [
        "fedmeta_model = CNNModel().to(device)\n",
        "# Train & Evaluate FedMeta w/ UGA\n",
        "fedmeta_uga_performance_dmeta = train_federated_learning_with_dmeta(fedmeta_model, train_loaders[0], dmeta_loader, 'FedMeta w/ UGA with Dmeta')"
      ]
    },
    {
      "cell_type": "code",
      "execution_count": 9,
      "metadata": {},
      "outputs": [
        {
          "name": "stderr",
          "output_type": "stream",
          "text": [
            "Epoch 1/5 - FedMeta w/ UGA with Dmeta(100 Removed Nodes) - D:   0%|          | 0/750 [00:00<?, ?it/s]"
          ]
        },
        {
          "name": "stderr",
          "output_type": "stream",
          "text": [
            "Epoch 1/5 - FedMeta w/ UGA with Dmeta(100 Removed Nodes) - D: 100%|██████████| 750/750 [01:42<00:00,  7.33it/s]\n",
            "Epoch 1/5 - FedMeta w/ UGA with Dmeta(100 Removed Nodes) - Dmeta: 100%|██████████| 469/469 [01:58<00:00,  3.95it/s]\n"
          ]
        },
        {
          "name": "stdout",
          "output_type": "stream",
          "text": [
            "Epoch [1/5] - FedMeta w/ UGA with Dmeta(100 Removed Nodes), Loss: 0.3775\n",
            "Epoch [1/5] - FedMeta w/ UGA with Dmeta(100 Removed Nodes), Validation Accuracy: 22.99%\n"
          ]
        },
        {
          "name": "stderr",
          "output_type": "stream",
          "text": [
            "Epoch 2/5 - FedMeta w/ UGA with Dmeta(100 Removed Nodes) - D: 100%|██████████| 750/750 [02:41<00:00,  4.64it/s]\n",
            "Epoch 2/5 - FedMeta w/ UGA with Dmeta(100 Removed Nodes) - Dmeta: 100%|██████████| 469/469 [02:05<00:00,  3.73it/s]\n"
          ]
        },
        {
          "name": "stdout",
          "output_type": "stream",
          "text": [
            "Epoch [2/5] - FedMeta w/ UGA with Dmeta(100 Removed Nodes), Loss: 0.2352\n",
            "Epoch [2/5] - FedMeta w/ UGA with Dmeta(100 Removed Nodes), Validation Accuracy: 23.62%\n"
          ]
        },
        {
          "name": "stderr",
          "output_type": "stream",
          "text": [
            "Epoch 3/5 - FedMeta w/ UGA with Dmeta(100 Removed Nodes) - D: 100%|██████████| 750/750 [02:54<00:00,  4.30it/s]\n",
            "Epoch 3/5 - FedMeta w/ UGA with Dmeta(100 Removed Nodes) - Dmeta: 100%|██████████| 469/469 [02:20<00:00,  3.34it/s]\n"
          ]
        },
        {
          "name": "stdout",
          "output_type": "stream",
          "text": [
            "Epoch [3/5] - FedMeta w/ UGA with Dmeta(100 Removed Nodes), Loss: 0.1778\n",
            "Epoch [3/5] - FedMeta w/ UGA with Dmeta(100 Removed Nodes), Validation Accuracy: 22.02%\n"
          ]
        },
        {
          "name": "stderr",
          "output_type": "stream",
          "text": [
            "Epoch 4/5 - FedMeta w/ UGA with Dmeta(100 Removed Nodes) - D: 100%|██████████| 750/750 [02:54<00:00,  4.30it/s]\n",
            "Epoch 4/5 - FedMeta w/ UGA with Dmeta(100 Removed Nodes) - Dmeta: 100%|██████████| 469/469 [02:08<00:00,  3.64it/s]\n"
          ]
        },
        {
          "name": "stdout",
          "output_type": "stream",
          "text": [
            "Epoch [4/5] - FedMeta w/ UGA with Dmeta(100 Removed Nodes), Loss: 0.1351\n",
            "Epoch [4/5] - FedMeta w/ UGA with Dmeta(100 Removed Nodes), Validation Accuracy: 17.78%\n"
          ]
        },
        {
          "name": "stderr",
          "output_type": "stream",
          "text": [
            "Epoch 5/5 - FedMeta w/ UGA with Dmeta(100 Removed Nodes) - D: 100%|██████████| 750/750 [02:53<00:00,  4.33it/s]\n",
            "Epoch 5/5 - FedMeta w/ UGA with Dmeta(100 Removed Nodes) - Dmeta: 100%|██████████| 469/469 [02:07<00:00,  3.69it/s]\n"
          ]
        },
        {
          "name": "stdout",
          "output_type": "stream",
          "text": [
            "Epoch [5/5] - FedMeta w/ UGA with Dmeta(100 Removed Nodes), Loss: 0.1022\n",
            "Epoch [5/5] - FedMeta w/ UGA with Dmeta(100 Removed Nodes), Validation Accuracy: 22.25%\n"
          ]
        }
      ],
      "source": [
        "fedmeta_model2 = CNNModel().to(device)\n",
        "fedmeta_uga_performance_dmeta2 = train_federated_learning_with_dmetaAdj(fedmeta_model2, train_loaders[0], dmeta_loader, 'FedMeta w/ UGA with Dmeta(100 Removed Nodes)', 100)"
      ]
    },
    {
      "cell_type": "code",
      "execution_count": 10,
      "metadata": {},
      "outputs": [
        {
          "name": "stderr",
          "output_type": "stream",
          "text": [
            "Epoch 1/5 - FedMeta w/ UGA with Dmeta(200 Removed Nodes) - D:   0%|          | 0/750 [00:00<?, ?it/s]"
          ]
        },
        {
          "name": "stderr",
          "output_type": "stream",
          "text": [
            "Epoch 1/5 - FedMeta w/ UGA with Dmeta(200 Removed Nodes) - D: 100%|██████████| 750/750 [02:35<00:00,  4.83it/s]\n",
            "Epoch 1/5 - FedMeta w/ UGA with Dmeta(200 Removed Nodes) - Dmeta: 100%|██████████| 469/469 [02:08<00:00,  3.64it/s]\n"
          ]
        },
        {
          "name": "stdout",
          "output_type": "stream",
          "text": [
            "Epoch [1/5] - FedMeta w/ UGA with Dmeta(200 Removed Nodes), Loss: 0.4024\n",
            "Epoch [1/5] - FedMeta w/ UGA with Dmeta(200 Removed Nodes), Validation Accuracy: 75.58%\n"
          ]
        },
        {
          "name": "stderr",
          "output_type": "stream",
          "text": [
            "Epoch 2/5 - FedMeta w/ UGA with Dmeta(200 Removed Nodes) - D: 100%|██████████| 750/750 [02:58<00:00,  4.19it/s]\n",
            "Epoch 2/5 - FedMeta w/ UGA with Dmeta(200 Removed Nodes) - Dmeta: 100%|██████████| 469/469 [02:12<00:00,  3.54it/s]\n"
          ]
        },
        {
          "name": "stdout",
          "output_type": "stream",
          "text": [
            "Epoch [2/5] - FedMeta w/ UGA with Dmeta(200 Removed Nodes), Loss: 0.2436\n",
            "Epoch [2/5] - FedMeta w/ UGA with Dmeta(200 Removed Nodes), Validation Accuracy: 74.33%\n"
          ]
        },
        {
          "name": "stderr",
          "output_type": "stream",
          "text": [
            "Epoch 3/5 - FedMeta w/ UGA with Dmeta(200 Removed Nodes) - D: 100%|██████████| 750/750 [02:56<00:00,  4.24it/s]\n",
            "Epoch 3/5 - FedMeta w/ UGA with Dmeta(200 Removed Nodes) - Dmeta: 100%|██████████| 469/469 [02:12<00:00,  3.53it/s]\n"
          ]
        },
        {
          "name": "stdout",
          "output_type": "stream",
          "text": [
            "Epoch [3/5] - FedMeta w/ UGA with Dmeta(200 Removed Nodes), Loss: 0.1880\n",
            "Epoch [3/5] - FedMeta w/ UGA with Dmeta(200 Removed Nodes), Validation Accuracy: 74.78%\n"
          ]
        },
        {
          "name": "stderr",
          "output_type": "stream",
          "text": [
            "Epoch 4/5 - FedMeta w/ UGA with Dmeta(200 Removed Nodes) - D: 100%|██████████| 750/750 [02:59<00:00,  4.18it/s]\n",
            "Epoch 4/5 - FedMeta w/ UGA with Dmeta(200 Removed Nodes) - Dmeta: 100%|██████████| 469/469 [02:20<00:00,  3.33it/s]\n"
          ]
        },
        {
          "name": "stdout",
          "output_type": "stream",
          "text": [
            "Epoch [4/5] - FedMeta w/ UGA with Dmeta(200 Removed Nodes), Loss: 0.1480\n",
            "Epoch [4/5] - FedMeta w/ UGA with Dmeta(200 Removed Nodes), Validation Accuracy: 79.38%\n"
          ]
        },
        {
          "name": "stderr",
          "output_type": "stream",
          "text": [
            "Epoch 5/5 - FedMeta w/ UGA with Dmeta(200 Removed Nodes) - D: 100%|██████████| 750/750 [02:59<00:00,  4.19it/s]\n",
            "Epoch 5/5 - FedMeta w/ UGA with Dmeta(200 Removed Nodes) - Dmeta: 100%|██████████| 469/469 [02:13<00:00,  3.50it/s]\n"
          ]
        },
        {
          "name": "stdout",
          "output_type": "stream",
          "text": [
            "Epoch [5/5] - FedMeta w/ UGA with Dmeta(200 Removed Nodes), Loss: 0.1119\n",
            "Epoch [5/5] - FedMeta w/ UGA with Dmeta(200 Removed Nodes), Validation Accuracy: 78.79%\n"
          ]
        }
      ],
      "source": [
        "fedmeta_model3 = CNNModel().to(device)\n",
        "fedmeta_uga_performance_dmeta3 = train_federated_learning_with_dmetaAdj(fedmeta_model3, train_loaders[0], dmeta_loader, 'FedMeta w/ UGA with Dmeta(200 Removed Nodes)', 200)"
      ]
    },
    {
      "cell_type": "code",
      "execution_count": 11,
      "metadata": {},
      "outputs": [
        {
          "name": "stderr",
          "output_type": "stream",
          "text": [
            "Epoch 1/5 - FedMeta w/ UGA with Dmeta(400 Removed Nodes) - D:   0%|          | 0/750 [00:00<?, ?it/s]"
          ]
        },
        {
          "name": "stderr",
          "output_type": "stream",
          "text": [
            "Epoch 1/5 - FedMeta w/ UGA with Dmeta(400 Removed Nodes) - D: 100%|██████████| 750/750 [02:32<00:00,  4.92it/s]\n",
            "Epoch 1/5 - FedMeta w/ UGA with Dmeta(400 Removed Nodes) - Dmeta: 100%|██████████| 469/469 [02:13<00:00,  3.52it/s]\n"
          ]
        },
        {
          "name": "stdout",
          "output_type": "stream",
          "text": [
            "Epoch [1/5] - FedMeta w/ UGA with Dmeta(400 Removed Nodes), Loss: 0.3952\n",
            "Epoch [1/5] - FedMeta w/ UGA with Dmeta(400 Removed Nodes), Validation Accuracy: 13.04%\n"
          ]
        },
        {
          "name": "stderr",
          "output_type": "stream",
          "text": [
            "Epoch 2/5 - FedMeta w/ UGA with Dmeta(400 Removed Nodes) - D: 100%|██████████| 750/750 [02:53<00:00,  4.33it/s]\n",
            "Epoch 2/5 - FedMeta w/ UGA with Dmeta(400 Removed Nodes) - Dmeta: 100%|██████████| 469/469 [02:09<00:00,  3.61it/s]\n"
          ]
        },
        {
          "name": "stdout",
          "output_type": "stream",
          "text": [
            "Epoch [2/5] - FedMeta w/ UGA with Dmeta(400 Removed Nodes), Loss: 0.2380\n",
            "Epoch [2/5] - FedMeta w/ UGA with Dmeta(400 Removed Nodes), Validation Accuracy: 14.37%\n"
          ]
        },
        {
          "name": "stderr",
          "output_type": "stream",
          "text": [
            "Epoch 3/5 - FedMeta w/ UGA with Dmeta(400 Removed Nodes) - D: 100%|██████████| 750/750 [02:54<00:00,  4.29it/s]\n",
            "Epoch 3/5 - FedMeta w/ UGA with Dmeta(400 Removed Nodes) - Dmeta: 100%|██████████| 469/469 [02:07<00:00,  3.68it/s]\n"
          ]
        },
        {
          "name": "stdout",
          "output_type": "stream",
          "text": [
            "Epoch [3/5] - FedMeta w/ UGA with Dmeta(400 Removed Nodes), Loss: 0.1873\n",
            "Epoch [3/5] - FedMeta w/ UGA with Dmeta(400 Removed Nodes), Validation Accuracy: 15.27%\n"
          ]
        },
        {
          "name": "stderr",
          "output_type": "stream",
          "text": [
            "Epoch 4/5 - FedMeta w/ UGA with Dmeta(400 Removed Nodes) - D: 100%|██████████| 750/750 [02:51<00:00,  4.37it/s]\n",
            "Epoch 4/5 - FedMeta w/ UGA with Dmeta(400 Removed Nodes) - Dmeta: 100%|██████████| 469/469 [02:08<00:00,  3.66it/s]\n"
          ]
        },
        {
          "name": "stdout",
          "output_type": "stream",
          "text": [
            "Epoch [4/5] - FedMeta w/ UGA with Dmeta(400 Removed Nodes), Loss: 0.1472\n",
            "Epoch [4/5] - FedMeta w/ UGA with Dmeta(400 Removed Nodes), Validation Accuracy: 15.43%\n"
          ]
        },
        {
          "name": "stderr",
          "output_type": "stream",
          "text": [
            "Epoch 5/5 - FedMeta w/ UGA with Dmeta(400 Removed Nodes) - D: 100%|██████████| 750/750 [02:48<00:00,  4.45it/s]\n",
            "Epoch 5/5 - FedMeta w/ UGA with Dmeta(400 Removed Nodes) - Dmeta: 100%|██████████| 469/469 [02:11<00:00,  3.57it/s]\n"
          ]
        },
        {
          "name": "stdout",
          "output_type": "stream",
          "text": [
            "Epoch [5/5] - FedMeta w/ UGA with Dmeta(400 Removed Nodes), Loss: 0.1118\n",
            "Epoch [5/5] - FedMeta w/ UGA with Dmeta(400 Removed Nodes), Validation Accuracy: 14.00%\n"
          ]
        }
      ],
      "source": [
        "fedmeta_model4 = CNNModel().to(device)\n",
        "fedmeta_uga_performance_dmeta4 = train_federated_learning_with_dmetaAdj(fedmeta_model4, train_loaders[0], dmeta_loader, 'FedMeta w/ UGA with Dmeta(400 Removed Nodes)', 400)"
      ]
    },
    {
      "cell_type": "code",
      "execution_count": 12,
      "metadata": {},
      "outputs": [
        {
          "name": "stderr",
          "output_type": "stream",
          "text": [
            "Epoch 1/5 - FedMeta w/ UGA with Dmeta(800 Removed Nodes) - D:   0%|          | 0/750 [00:00<?, ?it/s]"
          ]
        },
        {
          "name": "stderr",
          "output_type": "stream",
          "text": [
            "Epoch 1/5 - FedMeta w/ UGA with Dmeta(800 Removed Nodes) - D: 100%|██████████| 750/750 [02:37<00:00,  4.75it/s]\n",
            "Epoch 1/5 - FedMeta w/ UGA with Dmeta(800 Removed Nodes) - Dmeta: 100%|██████████| 469/469 [02:17<00:00,  3.41it/s]\n"
          ]
        },
        {
          "name": "stdout",
          "output_type": "stream",
          "text": [
            "Epoch [1/5] - FedMeta w/ UGA with Dmeta(800 Removed Nodes), Loss: 0.3760\n",
            "Epoch [1/5] - FedMeta w/ UGA with Dmeta(800 Removed Nodes), Validation Accuracy: 17.61%\n"
          ]
        },
        {
          "name": "stderr",
          "output_type": "stream",
          "text": [
            "Epoch 2/5 - FedMeta w/ UGA with Dmeta(800 Removed Nodes) - D: 100%|██████████| 750/750 [02:50<00:00,  4.40it/s]\n",
            "Epoch 2/5 - FedMeta w/ UGA with Dmeta(800 Removed Nodes) - Dmeta: 100%|██████████| 469/469 [02:07<00:00,  3.67it/s]\n"
          ]
        },
        {
          "name": "stdout",
          "output_type": "stream",
          "text": [
            "Epoch [2/5] - FedMeta w/ UGA with Dmeta(800 Removed Nodes), Loss: 0.2307\n",
            "Epoch [2/5] - FedMeta w/ UGA with Dmeta(800 Removed Nodes), Validation Accuracy: 18.71%\n"
          ]
        },
        {
          "name": "stderr",
          "output_type": "stream",
          "text": [
            "Epoch 3/5 - FedMeta w/ UGA with Dmeta(800 Removed Nodes) - D: 100%|██████████| 750/750 [02:48<00:00,  4.44it/s]\n",
            "Epoch 3/5 - FedMeta w/ UGA with Dmeta(800 Removed Nodes) - Dmeta: 100%|██████████| 469/469 [02:14<00:00,  3.48it/s]\n"
          ]
        },
        {
          "name": "stdout",
          "output_type": "stream",
          "text": [
            "Epoch [3/5] - FedMeta w/ UGA with Dmeta(800 Removed Nodes), Loss: 0.1754\n",
            "Epoch [3/5] - FedMeta w/ UGA with Dmeta(800 Removed Nodes), Validation Accuracy: 22.05%\n"
          ]
        },
        {
          "name": "stderr",
          "output_type": "stream",
          "text": [
            "Epoch 4/5 - FedMeta w/ UGA with Dmeta(800 Removed Nodes) - D: 100%|██████████| 750/750 [02:53<00:00,  4.32it/s]\n",
            "Epoch 4/5 - FedMeta w/ UGA with Dmeta(800 Removed Nodes) - Dmeta: 100%|██████████| 469/469 [02:03<00:00,  3.78it/s]\n"
          ]
        },
        {
          "name": "stdout",
          "output_type": "stream",
          "text": [
            "Epoch [4/5] - FedMeta w/ UGA with Dmeta(800 Removed Nodes), Loss: 0.1332\n",
            "Epoch [4/5] - FedMeta w/ UGA with Dmeta(800 Removed Nodes), Validation Accuracy: 22.96%\n"
          ]
        },
        {
          "name": "stderr",
          "output_type": "stream",
          "text": [
            "Epoch 5/5 - FedMeta w/ UGA with Dmeta(800 Removed Nodes) - D: 100%|██████████| 750/750 [02:53<00:00,  4.32it/s]\n",
            "Epoch 5/5 - FedMeta w/ UGA with Dmeta(800 Removed Nodes) - Dmeta: 100%|██████████| 469/469 [02:06<00:00,  3.71it/s]\n"
          ]
        },
        {
          "name": "stdout",
          "output_type": "stream",
          "text": [
            "Epoch [5/5] - FedMeta w/ UGA with Dmeta(800 Removed Nodes), Loss: 0.1011\n",
            "Epoch [5/5] - FedMeta w/ UGA with Dmeta(800 Removed Nodes), Validation Accuracy: 19.55%\n"
          ]
        }
      ],
      "source": [
        "fedmeta_model5 = CNNModel().to(device)\n",
        "fedmeta_uga_performance_dmeta5 = train_federated_learning_with_dmetaAdj(fedmeta_model5, train_loaders[0], dmeta_loader, 'FedMeta w/ UGA with Dmeta(800 Removed Nodes)', 800)"
      ]
    },
    {
      "cell_type": "code",
      "execution_count": 13,
      "metadata": {},
      "outputs": [
        {
          "data": {
            "image/png": "[encoded data removed]",
            "text/plain": [
              "<Figure size 1200x800 with 2 Axes>"
            ]
          },
          "metadata": {},
          "output_type": "display_data"
        }
      ],
      "source": [
        "# Create comparison plots for FEMNIST\n",
        "plt.figure(figsize=(12, 8))\n",
        "\n",
        "# Test accuracy comparison\n",
        "plt.subplot(2, 1, 1)\n",
        "plt.title(\"Accuracy Comparison\")\n",
        "sns.lineplot(x=range(0, communication_rounds, 20), y=fedmeta_uga_performance_dmeta['accuracy'], label='FedMeta w/ UGA')\n",
        "sns.lineplot(x=range(0, communication_rounds, 20), y=fedmeta_uga_performance_dmeta2['accuracy'], label='FedMeta w/ UGA(100 Removed)')\n",
        "sns.lineplot(x=range(0, communication_rounds, 20), y=fedmeta_uga_performance_dmeta3['accuracy'], label='FedMeta w/ UGA(200 Removed)')\n",
        "sns.lineplot(x=range(0, communication_rounds, 20), y=fedmeta_uga_performance_dmeta4['accuracy'], label='FedMeta w/ UGA(400 Removed)')\n",
        "sns.lineplot(x=range(0, communication_rounds, 20), y=fedmeta_uga_performance_dmeta5['accuracy'], label='FedMeta w/ UGA(800 Removed)')\n",
        "\n",
        "\n",
        "# Loss comparison\n",
        "plt.subplot(2, 1, 2)\n",
        "plt.title(\"Loss Comparison\")\n",
        "sns.lineplot(x=range(0, communication_rounds, 20), y=fedmeta_uga_performance_dmeta['loss'], label='FedMeta w/ UGA')\n",
        "sns.lineplot(x=range(0, communication_rounds, 20), y=fedmeta_uga_performance_dmeta2['loss'], label='FedMeta w/ UGA(100 Removed)')\n",
        "sns.lineplot(x=range(0, communication_rounds, 20), y=fedmeta_uga_performance_dmeta3['loss'], label='FedMeta w/ UGA(200 Removed)')\n",
        "sns.lineplot(x=range(0, communication_rounds, 20), y=fedmeta_uga_performance_dmeta4['loss'], label='FedMeta w/ UGA(400 Removed)')\n",
        "sns.lineplot(x=range(0, communication_rounds, 20), y=fedmeta_uga_performance_dmeta5['loss'], label='FedMeta w/ UGA(800 Removed)')\n",
        "\n",
        "plt.show()"
      ]
    }
  ],
  "metadata": {
    "accelerator": "GPU",
    "colab": {
      "gpuType": "T4",
      "provenance": []
    },
    "kernelspec": {
      "display_name": "Python 3",
      "name": "python3"
    },
    "language_info": {
      "codemirror_mode": {
        "name": "ipython",
        "version": 3
      },
      "file_extension": ".py",
      "mimetype": "text/x-python",
      "name": "python",
      "nbconvert_exporter": "python",
      "pygments_lexer": "ipython3",
      "version": "3.8.8rc1"
    }
  },
  "nbformat": 4,
  "nbformat_minor": 0
}
